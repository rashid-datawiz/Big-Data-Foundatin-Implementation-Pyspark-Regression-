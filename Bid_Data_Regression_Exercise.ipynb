{
  "nbformat": 4,
  "nbformat_minor": 0,
  "metadata": {
    "colab": {
      "provenance": []
    },
    "kernelspec": {
      "name": "python3",
      "display_name": "Python 3"
    },
    "language_info": {
      "name": "python"
    }
  },
  "cells": [
    {
      "cell_type": "code",
      "execution_count": 1,
      "metadata": {
        "colab": {
          "base_uri": "https://localhost:8080/"
        },
        "id": "6oZQFxQuZTJr",
        "outputId": "f7a6bcc3-407f-438a-aca9-7d3ce478877b"
      },
      "outputs": [
        {
          "output_type": "stream",
          "name": "stdout",
          "text": [
            "Requirement already satisfied: pyspark in /usr/local/lib/python3.10/dist-packages (3.5.3)\n",
            "Requirement already satisfied: py4j==0.10.9.7 in /usr/local/lib/python3.10/dist-packages (from pyspark) (0.10.9.7)\n"
          ]
        }
      ],
      "source": [
        "pip install pyspark"
      ]
    },
    {
      "cell_type": "code",
      "source": [
        "from pyspark.sql import SparkSession"
      ],
      "metadata": {
        "id": "weIRwrYLZmDY"
      },
      "execution_count": 2,
      "outputs": []
    },
    {
      "cell_type": "code",
      "source": [
        "spark = SparkSession.builder.appName(\"tips\").getOrCreate()"
      ],
      "metadata": {
        "id": "BZ4f19ZMZvPq"
      },
      "execution_count": 3,
      "outputs": []
    },
    {
      "cell_type": "code",
      "source": [
        "file_location=\"/content/tips.csv\" # copy file path\n",
        "file_type=\"csv\" # define file type\n",
        "\n",
        "df = spark.read.csv(file_location, header=True, inferSchema=True) # to read table like pandas dataframe\n",
        "df.show() # to show the dataframe"
      ],
      "metadata": {
        "colab": {
          "base_uri": "https://localhost:8080/"
        },
        "id": "WLKtb-OUaF2E",
        "outputId": "b8c878a5-3dca-4521-c8e8-bdb2a9fab01c"
      },
      "execution_count": 11,
      "outputs": [
        {
          "output_type": "stream",
          "name": "stdout",
          "text": [
            "+----------+----+------+------+---+------+----+\n",
            "|total_bill| tip|   sex|smoker|day|  time|size|\n",
            "+----------+----+------+------+---+------+----+\n",
            "|     16.99|1.01|Female|    No|Sun|Dinner|   2|\n",
            "|     10.34|1.66|  Male|    No|Sun|Dinner|   3|\n",
            "|     21.01| 3.5|  Male|    No|Sun|Dinner|   3|\n",
            "|     23.68|3.31|  Male|    No|Sun|Dinner|   2|\n",
            "|     24.59|3.61|Female|    No|Sun|Dinner|   4|\n",
            "|     25.29|4.71|  Male|    No|Sun|Dinner|   4|\n",
            "|      8.77| 2.0|  Male|    No|Sun|Dinner|   2|\n",
            "|     26.88|3.12|  Male|    No|Sun|Dinner|   4|\n",
            "|     15.04|1.96|  Male|    No|Sun|Dinner|   2|\n",
            "|     14.78|3.23|  Male|    No|Sun|Dinner|   2|\n",
            "|     10.27|1.71|  Male|    No|Sun|Dinner|   2|\n",
            "|     35.26| 5.0|Female|    No|Sun|Dinner|   4|\n",
            "|     15.42|1.57|  Male|    No|Sun|Dinner|   2|\n",
            "|     18.43| 3.0|  Male|    No|Sun|Dinner|   4|\n",
            "|     14.83|3.02|Female|    No|Sun|Dinner|   2|\n",
            "|     21.58|3.92|  Male|    No|Sun|Dinner|   2|\n",
            "|     10.33|1.67|Female|    No|Sun|Dinner|   3|\n",
            "|     16.29|3.71|  Male|    No|Sun|Dinner|   3|\n",
            "|     16.97| 3.5|Female|    No|Sun|Dinner|   3|\n",
            "|     20.65|3.35|  Male|    No|Sat|Dinner|   3|\n",
            "+----------+----+------+------+---+------+----+\n",
            "only showing top 20 rows\n",
            "\n"
          ]
        }
      ]
    },
    {
      "cell_type": "code",
      "source": [
        "df.printSchema()  # to show the data types"
      ],
      "metadata": {
        "colab": {
          "base_uri": "https://localhost:8080/"
        },
        "id": "-5gVByiqboRh",
        "outputId": "fafc5f5f-e2d4-48a4-df52-1dc009f70641"
      },
      "execution_count": 10,
      "outputs": [
        {
          "output_type": "stream",
          "name": "stdout",
          "text": [
            "root\n",
            " |-- total_bill: double (nullable = true)\n",
            " |-- tip: double (nullable = true)\n",
            " |-- sex: string (nullable = true)\n",
            " |-- smoker: string (nullable = true)\n",
            " |-- day: string (nullable = true)\n",
            " |-- time: string (nullable = true)\n",
            " |-- size: integer (nullable = true)\n",
            "\n"
          ]
        }
      ]
    },
    {
      "cell_type": "code",
      "source": [
        "df.columns"
      ],
      "metadata": {
        "colab": {
          "base_uri": "https://localhost:8080/"
        },
        "id": "ATNtMXhlceIA",
        "outputId": "8747ba89-210d-41b1-8337-614a3b970430"
      },
      "execution_count": 12,
      "outputs": [
        {
          "output_type": "execute_result",
          "data": {
            "text/plain": [
              "['total_bill', 'tip', 'sex', 'smoker', 'day', 'time', 'size']"
            ]
          },
          "metadata": {},
          "execution_count": 12
        }
      ]
    },
    {
      "cell_type": "code",
      "source": [
        "# String Indexer- to convert categorical columns into numeric\n",
        "# importing string indexer:\n",
        "from pyspark.ml.feature import StringIndexer"
      ],
      "metadata": {
        "id": "EXiT6R2BhoK9"
      },
      "execution_count": 14,
      "outputs": []
    },
    {
      "cell_type": "code",
      "source": [
        "df.show()"
      ],
      "metadata": {
        "colab": {
          "base_uri": "https://localhost:8080/"
        },
        "id": "1L619rJjiKyE",
        "outputId": "f23d47f3-f8b2-4cb0-a80d-994ebec74ac2"
      },
      "execution_count": 15,
      "outputs": [
        {
          "output_type": "stream",
          "name": "stdout",
          "text": [
            "+----------+----+------+------+---+------+----+\n",
            "|total_bill| tip|   sex|smoker|day|  time|size|\n",
            "+----------+----+------+------+---+------+----+\n",
            "|     16.99|1.01|Female|    No|Sun|Dinner|   2|\n",
            "|     10.34|1.66|  Male|    No|Sun|Dinner|   3|\n",
            "|     21.01| 3.5|  Male|    No|Sun|Dinner|   3|\n",
            "|     23.68|3.31|  Male|    No|Sun|Dinner|   2|\n",
            "|     24.59|3.61|Female|    No|Sun|Dinner|   4|\n",
            "|     25.29|4.71|  Male|    No|Sun|Dinner|   4|\n",
            "|      8.77| 2.0|  Male|    No|Sun|Dinner|   2|\n",
            "|     26.88|3.12|  Male|    No|Sun|Dinner|   4|\n",
            "|     15.04|1.96|  Male|    No|Sun|Dinner|   2|\n",
            "|     14.78|3.23|  Male|    No|Sun|Dinner|   2|\n",
            "|     10.27|1.71|  Male|    No|Sun|Dinner|   2|\n",
            "|     35.26| 5.0|Female|    No|Sun|Dinner|   4|\n",
            "|     15.42|1.57|  Male|    No|Sun|Dinner|   2|\n",
            "|     18.43| 3.0|  Male|    No|Sun|Dinner|   4|\n",
            "|     14.83|3.02|Female|    No|Sun|Dinner|   2|\n",
            "|     21.58|3.92|  Male|    No|Sun|Dinner|   2|\n",
            "|     10.33|1.67|Female|    No|Sun|Dinner|   3|\n",
            "|     16.29|3.71|  Male|    No|Sun|Dinner|   3|\n",
            "|     16.97| 3.5|Female|    No|Sun|Dinner|   3|\n",
            "|     20.65|3.35|  Male|    No|Sat|Dinner|   3|\n",
            "+----------+----+------+------+---+------+----+\n",
            "only showing top 20 rows\n",
            "\n"
          ]
        }
      ]
    },
    {
      "cell_type": "code",
      "source": [
        "# Converting 'sex' column into numeric col\n",
        "indexer = StringIndexer(inputCol=\"sex\", outputCol=\"sex_indexed\")\n",
        "df_r=indexer.fit(df).transform(df)\n",
        "df_r.show()"
      ],
      "metadata": {
        "colab": {
          "base_uri": "https://localhost:8080/"
        },
        "id": "YWcxYJM8ic90",
        "outputId": "d8dfa5ef-41bb-4caf-cfef-c18e0a046708"
      },
      "execution_count": 18,
      "outputs": [
        {
          "output_type": "stream",
          "name": "stdout",
          "text": [
            "+----------+----+------+------+---+------+----+-----------+\n",
            "|total_bill| tip|   sex|smoker|day|  time|size|sex_indexed|\n",
            "+----------+----+------+------+---+------+----+-----------+\n",
            "|     16.99|1.01|Female|    No|Sun|Dinner|   2|        1.0|\n",
            "|     10.34|1.66|  Male|    No|Sun|Dinner|   3|        0.0|\n",
            "|     21.01| 3.5|  Male|    No|Sun|Dinner|   3|        0.0|\n",
            "|     23.68|3.31|  Male|    No|Sun|Dinner|   2|        0.0|\n",
            "|     24.59|3.61|Female|    No|Sun|Dinner|   4|        1.0|\n",
            "|     25.29|4.71|  Male|    No|Sun|Dinner|   4|        0.0|\n",
            "|      8.77| 2.0|  Male|    No|Sun|Dinner|   2|        0.0|\n",
            "|     26.88|3.12|  Male|    No|Sun|Dinner|   4|        0.0|\n",
            "|     15.04|1.96|  Male|    No|Sun|Dinner|   2|        0.0|\n",
            "|     14.78|3.23|  Male|    No|Sun|Dinner|   2|        0.0|\n",
            "|     10.27|1.71|  Male|    No|Sun|Dinner|   2|        0.0|\n",
            "|     35.26| 5.0|Female|    No|Sun|Dinner|   4|        1.0|\n",
            "|     15.42|1.57|  Male|    No|Sun|Dinner|   2|        0.0|\n",
            "|     18.43| 3.0|  Male|    No|Sun|Dinner|   4|        0.0|\n",
            "|     14.83|3.02|Female|    No|Sun|Dinner|   2|        1.0|\n",
            "|     21.58|3.92|  Male|    No|Sun|Dinner|   2|        0.0|\n",
            "|     10.33|1.67|Female|    No|Sun|Dinner|   3|        1.0|\n",
            "|     16.29|3.71|  Male|    No|Sun|Dinner|   3|        0.0|\n",
            "|     16.97| 3.5|Female|    No|Sun|Dinner|   3|        1.0|\n",
            "|     20.65|3.35|  Male|    No|Sat|Dinner|   3|        0.0|\n",
            "+----------+----+------+------+---+------+----+-----------+\n",
            "only showing top 20 rows\n",
            "\n"
          ]
        }
      ]
    },
    {
      "cell_type": "code",
      "source": [
        "# Converting other categotical columns into numeric col\n",
        "indexer = StringIndexer(inputCols=[\"smoker\",\"day\",\"time\"], outputCols=[\"smoker_indexed\", \"day_indexed\", \"time_indexed\"])\n",
        "df_r=indexer.fit(df_r).transform(df_r)\n",
        "df_r.show()"
      ],
      "metadata": {
        "colab": {
          "base_uri": "https://localhost:8080/"
        },
        "id": "sS5_07PEkUm6",
        "outputId": "6810df2e-307f-4e66-ca0e-5cedbe8d8514"
      },
      "execution_count": 19,
      "outputs": [
        {
          "output_type": "stream",
          "name": "stdout",
          "text": [
            "+----------+----+------+------+---+------+----+-----------+--------------+-----------+------------+\n",
            "|total_bill| tip|   sex|smoker|day|  time|size|sex_indexed|smoker_indexed|day_indexed|time_indexed|\n",
            "+----------+----+------+------+---+------+----+-----------+--------------+-----------+------------+\n",
            "|     16.99|1.01|Female|    No|Sun|Dinner|   2|        1.0|           0.0|        1.0|         0.0|\n",
            "|     10.34|1.66|  Male|    No|Sun|Dinner|   3|        0.0|           0.0|        1.0|         0.0|\n",
            "|     21.01| 3.5|  Male|    No|Sun|Dinner|   3|        0.0|           0.0|        1.0|         0.0|\n",
            "|     23.68|3.31|  Male|    No|Sun|Dinner|   2|        0.0|           0.0|        1.0|         0.0|\n",
            "|     24.59|3.61|Female|    No|Sun|Dinner|   4|        1.0|           0.0|        1.0|         0.0|\n",
            "|     25.29|4.71|  Male|    No|Sun|Dinner|   4|        0.0|           0.0|        1.0|         0.0|\n",
            "|      8.77| 2.0|  Male|    No|Sun|Dinner|   2|        0.0|           0.0|        1.0|         0.0|\n",
            "|     26.88|3.12|  Male|    No|Sun|Dinner|   4|        0.0|           0.0|        1.0|         0.0|\n",
            "|     15.04|1.96|  Male|    No|Sun|Dinner|   2|        0.0|           0.0|        1.0|         0.0|\n",
            "|     14.78|3.23|  Male|    No|Sun|Dinner|   2|        0.0|           0.0|        1.0|         0.0|\n",
            "|     10.27|1.71|  Male|    No|Sun|Dinner|   2|        0.0|           0.0|        1.0|         0.0|\n",
            "|     35.26| 5.0|Female|    No|Sun|Dinner|   4|        1.0|           0.0|        1.0|         0.0|\n",
            "|     15.42|1.57|  Male|    No|Sun|Dinner|   2|        0.0|           0.0|        1.0|         0.0|\n",
            "|     18.43| 3.0|  Male|    No|Sun|Dinner|   4|        0.0|           0.0|        1.0|         0.0|\n",
            "|     14.83|3.02|Female|    No|Sun|Dinner|   2|        1.0|           0.0|        1.0|         0.0|\n",
            "|     21.58|3.92|  Male|    No|Sun|Dinner|   2|        0.0|           0.0|        1.0|         0.0|\n",
            "|     10.33|1.67|Female|    No|Sun|Dinner|   3|        1.0|           0.0|        1.0|         0.0|\n",
            "|     16.29|3.71|  Male|    No|Sun|Dinner|   3|        0.0|           0.0|        1.0|         0.0|\n",
            "|     16.97| 3.5|Female|    No|Sun|Dinner|   3|        1.0|           0.0|        1.0|         0.0|\n",
            "|     20.65|3.35|  Male|    No|Sat|Dinner|   3|        0.0|           0.0|        0.0|         0.0|\n",
            "+----------+----+------+------+---+------+----+-----------+--------------+-----------+------------+\n",
            "only showing top 20 rows\n",
            "\n"
          ]
        }
      ]
    },
    {
      "cell_type": "code",
      "source": [
        "# Vector Assembler: It combines multiple columns into one single vector column\n",
        "# importing:\n",
        "from pyspark.ml.feature import VectorAssembler"
      ],
      "metadata": {
        "id": "Sge3CJ7Rl_V-"
      },
      "execution_count": 20,
      "outputs": []
    },
    {
      "cell_type": "code",
      "source": [
        "featureassemble= VectorAssembler(inputCols=['tip', 'size', 'sex_indexed', 'smoker_indexed', 'day_indexed', 'time_indexed'], outputCol='Independent_Features')\n",
        "output = featureassemble.transform(df_r) # Transformed"
      ],
      "metadata": {
        "id": "XIRxFcvmpGTZ"
      },
      "execution_count": 22,
      "outputs": []
    },
    {
      "cell_type": "code",
      "source": [
        "output.select('Independent_Features').show() # to see the vector values in a comma separated format"
      ],
      "metadata": {
        "colab": {
          "base_uri": "https://localhost:8080/"
        },
        "id": "3WtpJP5eqY0e",
        "outputId": "0f1822c6-dfdc-4c8a-99c4-810851803e0c"
      },
      "execution_count": 23,
      "outputs": [
        {
          "output_type": "stream",
          "name": "stdout",
          "text": [
            "+--------------------+\n",
            "|Independent_Features|\n",
            "+--------------------+\n",
            "|[1.01,2.0,1.0,0.0...|\n",
            "|[1.66,3.0,0.0,0.0...|\n",
            "|[3.5,3.0,0.0,0.0,...|\n",
            "|[3.31,2.0,0.0,0.0...|\n",
            "|[3.61,4.0,1.0,0.0...|\n",
            "|[4.71,4.0,0.0,0.0...|\n",
            "|[2.0,2.0,0.0,0.0,...|\n",
            "|[3.12,4.0,0.0,0.0...|\n",
            "|[1.96,2.0,0.0,0.0...|\n",
            "|[3.23,2.0,0.0,0.0...|\n",
            "|[1.71,2.0,0.0,0.0...|\n",
            "|[5.0,4.0,1.0,0.0,...|\n",
            "|[1.57,2.0,0.0,0.0...|\n",
            "|[3.0,4.0,0.0,0.0,...|\n",
            "|[3.02,2.0,1.0,0.0...|\n",
            "|[3.92,2.0,0.0,0.0...|\n",
            "|[1.67,3.0,1.0,0.0...|\n",
            "|[3.71,3.0,0.0,0.0...|\n",
            "|[3.5,3.0,1.0,0.0,...|\n",
            "|(6,[0,1],[3.35,3.0])|\n",
            "+--------------------+\n",
            "only showing top 20 rows\n",
            "\n"
          ]
        }
      ]
    },
    {
      "cell_type": "code",
      "source": [
        "output.show()"
      ],
      "metadata": {
        "colab": {
          "base_uri": "https://localhost:8080/"
        },
        "id": "IrNQqaTFq2Hg",
        "outputId": "b67a8197-d4bf-4376-a5db-5faf8ed93c1c"
      },
      "execution_count": 24,
      "outputs": [
        {
          "output_type": "stream",
          "name": "stdout",
          "text": [
            "+----------+----+------+------+---+------+----+-----------+--------------+-----------+------------+--------------------+\n",
            "|total_bill| tip|   sex|smoker|day|  time|size|sex_indexed|smoker_indexed|day_indexed|time_indexed|Independent_Features|\n",
            "+----------+----+------+------+---+------+----+-----------+--------------+-----------+------------+--------------------+\n",
            "|     16.99|1.01|Female|    No|Sun|Dinner|   2|        1.0|           0.0|        1.0|         0.0|[1.01,2.0,1.0,0.0...|\n",
            "|     10.34|1.66|  Male|    No|Sun|Dinner|   3|        0.0|           0.0|        1.0|         0.0|[1.66,3.0,0.0,0.0...|\n",
            "|     21.01| 3.5|  Male|    No|Sun|Dinner|   3|        0.0|           0.0|        1.0|         0.0|[3.5,3.0,0.0,0.0,...|\n",
            "|     23.68|3.31|  Male|    No|Sun|Dinner|   2|        0.0|           0.0|        1.0|         0.0|[3.31,2.0,0.0,0.0...|\n",
            "|     24.59|3.61|Female|    No|Sun|Dinner|   4|        1.0|           0.0|        1.0|         0.0|[3.61,4.0,1.0,0.0...|\n",
            "|     25.29|4.71|  Male|    No|Sun|Dinner|   4|        0.0|           0.0|        1.0|         0.0|[4.71,4.0,0.0,0.0...|\n",
            "|      8.77| 2.0|  Male|    No|Sun|Dinner|   2|        0.0|           0.0|        1.0|         0.0|[2.0,2.0,0.0,0.0,...|\n",
            "|     26.88|3.12|  Male|    No|Sun|Dinner|   4|        0.0|           0.0|        1.0|         0.0|[3.12,4.0,0.0,0.0...|\n",
            "|     15.04|1.96|  Male|    No|Sun|Dinner|   2|        0.0|           0.0|        1.0|         0.0|[1.96,2.0,0.0,0.0...|\n",
            "|     14.78|3.23|  Male|    No|Sun|Dinner|   2|        0.0|           0.0|        1.0|         0.0|[3.23,2.0,0.0,0.0...|\n",
            "|     10.27|1.71|  Male|    No|Sun|Dinner|   2|        0.0|           0.0|        1.0|         0.0|[1.71,2.0,0.0,0.0...|\n",
            "|     35.26| 5.0|Female|    No|Sun|Dinner|   4|        1.0|           0.0|        1.0|         0.0|[5.0,4.0,1.0,0.0,...|\n",
            "|     15.42|1.57|  Male|    No|Sun|Dinner|   2|        0.0|           0.0|        1.0|         0.0|[1.57,2.0,0.0,0.0...|\n",
            "|     18.43| 3.0|  Male|    No|Sun|Dinner|   4|        0.0|           0.0|        1.0|         0.0|[3.0,4.0,0.0,0.0,...|\n",
            "|     14.83|3.02|Female|    No|Sun|Dinner|   2|        1.0|           0.0|        1.0|         0.0|[3.02,2.0,1.0,0.0...|\n",
            "|     21.58|3.92|  Male|    No|Sun|Dinner|   2|        0.0|           0.0|        1.0|         0.0|[3.92,2.0,0.0,0.0...|\n",
            "|     10.33|1.67|Female|    No|Sun|Dinner|   3|        1.0|           0.0|        1.0|         0.0|[1.67,3.0,1.0,0.0...|\n",
            "|     16.29|3.71|  Male|    No|Sun|Dinner|   3|        0.0|           0.0|        1.0|         0.0|[3.71,3.0,0.0,0.0...|\n",
            "|     16.97| 3.5|Female|    No|Sun|Dinner|   3|        1.0|           0.0|        1.0|         0.0|[3.5,3.0,1.0,0.0,...|\n",
            "|     20.65|3.35|  Male|    No|Sat|Dinner|   3|        0.0|           0.0|        0.0|         0.0|(6,[0,1],[3.35,3.0])|\n",
            "+----------+----+------+------+---+------+----+-----------+--------------+-----------+------------+--------------------+\n",
            "only showing top 20 rows\n",
            "\n"
          ]
        }
      ]
    },
    {
      "cell_type": "code",
      "source": [
        "# I will be selecting Independent Features column for my input and total bill as target"
      ],
      "metadata": {
        "id": "IVAj5vuwrCEs"
      },
      "execution_count": 25,
      "outputs": []
    },
    {
      "cell_type": "code",
      "source": [
        "finalize_data = output.select('Independent_Features', 'total_bill')"
      ],
      "metadata": {
        "id": "0qqkqTlQrb6T"
      },
      "execution_count": 26,
      "outputs": []
    },
    {
      "cell_type": "code",
      "source": [
        "finalize_data.show()"
      ],
      "metadata": {
        "colab": {
          "base_uri": "https://localhost:8080/"
        },
        "id": "7qzguV0yruiW",
        "outputId": "f3c9de24-6bad-48cd-fb7b-fb477f0e09b7"
      },
      "execution_count": 27,
      "outputs": [
        {
          "output_type": "stream",
          "name": "stdout",
          "text": [
            "+--------------------+----------+\n",
            "|Independent_Features|total_bill|\n",
            "+--------------------+----------+\n",
            "|[1.01,2.0,1.0,0.0...|     16.99|\n",
            "|[1.66,3.0,0.0,0.0...|     10.34|\n",
            "|[3.5,3.0,0.0,0.0,...|     21.01|\n",
            "|[3.31,2.0,0.0,0.0...|     23.68|\n",
            "|[3.61,4.0,1.0,0.0...|     24.59|\n",
            "|[4.71,4.0,0.0,0.0...|     25.29|\n",
            "|[2.0,2.0,0.0,0.0,...|      8.77|\n",
            "|[3.12,4.0,0.0,0.0...|     26.88|\n",
            "|[1.96,2.0,0.0,0.0...|     15.04|\n",
            "|[3.23,2.0,0.0,0.0...|     14.78|\n",
            "|[1.71,2.0,0.0,0.0...|     10.27|\n",
            "|[5.0,4.0,1.0,0.0,...|     35.26|\n",
            "|[1.57,2.0,0.0,0.0...|     15.42|\n",
            "|[3.0,4.0,0.0,0.0,...|     18.43|\n",
            "|[3.02,2.0,1.0,0.0...|     14.83|\n",
            "|[3.92,2.0,0.0,0.0...|     21.58|\n",
            "|[1.67,3.0,1.0,0.0...|     10.33|\n",
            "|[3.71,3.0,0.0,0.0...|     16.29|\n",
            "|[3.5,3.0,1.0,0.0,...|     16.97|\n",
            "|(6,[0,1],[3.35,3.0])|     20.65|\n",
            "+--------------------+----------+\n",
            "only showing top 20 rows\n",
            "\n"
          ]
        }
      ]
    },
    {
      "cell_type": "code",
      "source": [
        "# Now, we will use this data in my Linear Regression Model:"
      ],
      "metadata": {
        "id": "Ua6t91aHrz1u"
      },
      "execution_count": 28,
      "outputs": []
    },
    {
      "cell_type": "code",
      "source": [
        "from pyspark.ml.regression import LinearRegression"
      ],
      "metadata": {
        "id": "paYtVDRjr9VT"
      },
      "execution_count": 29,
      "outputs": []
    },
    {
      "cell_type": "code",
      "source": [
        "# Splitting training/Testing data\n",
        "train_data,test_data = finalize_data.randomSplit([0.75,0.25])\n",
        "\n",
        "regressor = LinearRegression(featuresCol='Independent_Features', labelCol='total_bill')\n",
        "regressor = regressor.fit(train_data) #  give train data into regressor model"
      ],
      "metadata": {
        "id": "KM1jFlPosyxK"
      },
      "execution_count": 30,
      "outputs": []
    },
    {
      "cell_type": "code",
      "source": [
        "# Predicting using testing data:\n",
        "pred_result = regressor.evaluate(test_data)"
      ],
      "metadata": {
        "id": "uvjGnIKht7AY"
      },
      "execution_count": 31,
      "outputs": []
    },
    {
      "cell_type": "code",
      "source": [
        "# To show the predictions:\n",
        "pred_result.predictions.show()"
      ],
      "metadata": {
        "colab": {
          "base_uri": "https://localhost:8080/"
        },
        "id": "id8dS0HxuSAO",
        "outputId": "29c845d5-d14e-4baf-e89d-7c994230ac04"
      },
      "execution_count": 32,
      "outputs": [
        {
          "output_type": "stream",
          "name": "stdout",
          "text": [
            "+--------------------+----------+------------------+\n",
            "|Independent_Features|total_bill|        prediction|\n",
            "+--------------------+----------+------------------+\n",
            "|(6,[0,1],[1.47,2.0])|     10.77| 13.11439137420309|\n",
            "|(6,[0,1],[1.75,2.0])|     17.82| 13.93800584423685|\n",
            "|(6,[0,1],[3.27,2.0])|     17.78|18.409055824420115|\n",
            "|(6,[0,1],[3.35,3.0])|     20.65|22.133005825484638|\n",
            "| (6,[0,1],[5.0,3.0])|     31.27|26.986448238183577|\n",
            "|(6,[0,1],[5.92,3.0])|     29.03|  29.6926100682945|\n",
            "| (6,[0,1],[9.0,4.0])|     48.33|42.241000819720725|\n",
            "|[1.0,1.0,1.0,0.0,...|      7.25| 7.394650201738514|\n",
            "|[1.0,1.0,1.0,1.0,...|      3.07|10.176140465305808|\n",
            "|[1.0,2.0,0.0,1.0,...|      12.6| 14.51338592021372|\n",
            "|[1.0,2.0,1.0,1.0,...|      5.75|14.031465399490996|\n",
            "|[1.25,2.0,1.0,0.0...|      8.51|10.055849161364884|\n",
            "|[1.5,2.0,0.0,1.0,...|     11.59|15.984126045274001|\n",
            "|[1.5,2.0,0.0,1.0,...|     12.03|16.350819398404315|\n",
            "|[1.5,2.0,1.0,0.0,...|     26.41|12.354021907853673|\n",
            "|[1.5,2.0,1.0,0.0,...|     10.65|10.791219223895027|\n",
            "|[1.58,2.0,0.0,1.0...|     13.42|14.778872899035107|\n",
            "|[1.63,2.0,1.0,0.0...|     11.87|11.173611656410701|\n",
            "|[1.64,2.0,0.0,1.0...|     15.36|16.395933280290883|\n",
            "|[1.66,3.0,0.0,0.0...|     10.34| 17.28413532049098|\n",
            "+--------------------+----------+------------------+\n",
            "only showing top 20 rows\n",
            "\n"
          ]
        }
      ]
    },
    {
      "cell_type": "code",
      "source": [
        "# Evaluate the Model:\n",
        "pred_result.r2, pred_result.meanAbsoluteError, pred_result.meanSquaredError"
      ],
      "metadata": {
        "colab": {
          "base_uri": "https://localhost:8080/"
        },
        "id": "bIPypkbKubul",
        "outputId": "1777f4a0-e020-4901-aef3-02d67fbc6272"
      },
      "execution_count": 33,
      "outputs": [
        {
          "output_type": "execute_result",
          "data": {
            "text/plain": [
              "(0.6346073174797393, 3.9383720946318417, 29.711201836411007)"
            ]
          },
          "metadata": {},
          "execution_count": 33
        }
      ]
    },
    {
      "cell_type": "code",
      "source": [],
      "metadata": {
        "id": "91GNXtoFvRhT"
      },
      "execution_count": null,
      "outputs": []
    }
  ]
}